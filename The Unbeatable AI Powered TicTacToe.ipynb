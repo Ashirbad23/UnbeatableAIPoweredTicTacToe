{
 "cells": [
  {
   "cell_type": "markdown",
   "id": "5ccf7b15",
   "metadata": {},
   "source": [
    "# The Unbeatable AI powered Tic-Tac-Toe\n",
    "***"
   ]
  },
  {
   "cell_type": "markdown",
   "id": "a4d65ff5",
   "metadata": {},
   "source": [
    "## Conquering the Grid: Can AI Master Tic Tac Toe?"
   ]
  },
  {
   "cell_type": "markdown",
   "id": "dc9cf02a",
   "metadata": {},
   "source": [
    "***\n",
    "We are exploring the potential of AI in mastering strategic gameplay, specifically in the context of the classic game of Tic Tac Toe. We aim to investigate the extent to which AI can learn, adapt, and apply optimal strategies to ensure victory or a stalemate, thereby demonstrating its capability to conquer the grid. This endeavour not only contributes to the field of game theory but also has broader implications for AI’s role in problem-solving and decision-making scenarios.\n",
    "***"
   ]
  },
  {
   "cell_type": "markdown",
   "id": "b885813a",
   "metadata": {},
   "source": [
    "## Introduction\n",
    "***\n",
    "Tic Tac Toe, a game that has stood the test of time, is a favourite pastime for people across all age groups. Its charm lies in its simplicity - a mere 3x3 grid, yet it is a game that requires a significant amount of strategic thinking and planning. Players are constantly engaged in a mental tug-of-war, juggling between offensive and defensive moves. The game unfolds in a myriad of ways, leading to countless possible outcomes. This level of complexity, masked by apparent simplicity, makes Tic Tac Toe a fascinating and ideal platform for testing and refining Artificial Intelligence (AI).\n",
    "\n",
    "The field of AI has made significant strides in recent years, and games like Tic Tac Toe provide a perfect proving ground for these advancements. The game offers a controlled yet challenging environment where AI algorithms can be trained, tested, and improved. It provides an opportunity for AI to learn the nuances of strategic decision-making, understand the balance between offense and defence, and adapt to different game scenarios.\n",
    "\n",
    "Moreover, the lessons learned from mastering Tic Tac Toe can be extrapolated to other, more complex scenarios. The strategic decision-making involved in Tic Tac Toe is not unlike the decision-making required in real-world situations. By conquering the grid of Tic Tac Toe, AI takes a step closer to mastering the much larger grid of complex problem-solving and decision-making scenarios in various fields.\n",
    "\n",
    "***"
   ]
  },
  {
   "cell_type": "markdown",
   "id": "a3532be5",
   "metadata": {},
   "source": [
    "### Pros and Cons of AI in Tic Tac Toe:\n",
    "*****\n",
    "#### Pros: \n",
    " \n",
    "*\tConsistent performance: AI eliminates human error and fatigue, ensuring consistent performance regardless of external factors. \n",
    "\n",
    "*\tLearning potential: AI algorithms can learn from past experiences and adapt their strategies over time, potentially surpassing human players. \n",
    "\n",
    "*\tComputational power: AI can analyze vast search spaces and consider complex factors beyond human capabilities, leading to more optimal decisions.\n",
    " \n",
    "#### Cons: \n",
    " \n",
    "*\tLack of creativity: AI players may lack the creativity and unorthodox moves that can surprise and outmaneuver human opponents. \n",
    "\n",
    "*\tReliance on pre-defined rules: AI performance depends heavily on the pre-defined rules and game state, limiting its applicability to real-world situations with more complex and dynamic variables. \n",
    "\n",
    "*\tPotential for bias: AI algorithms trained on biased data may exhibit biased behavior in their gameplay, raising ethical concerns. \n",
    "*****"
   ]
  },
  {
   "cell_type": "markdown",
   "id": "4d0f86fa",
   "metadata": {},
   "source": [
    "### A Brief History of Tic Tac Toe and AI:\n",
    "***\n",
    "A Brief History of Tic Tac Toe and AI:\n",
    "Tic Tac Toe, known by various names like Noughts and Crosses, has been played for centuries, with archaeological evidence suggesting its existence in ancient Egypt and Rome. The game's simplicity and accessibility made it a popular pastime across cultures, paving the way for its adoption in the early days of AI research. \n",
    " \n",
    "In the 1950s and 60s, pioneers like Claude Shannon and Alan Turing explored the potential of AI in games like Tic Tac Toe, laying the foundation for game-playing algorithms like Minmax. These early efforts laid the groundwork for the sophisticated AI systems we see today, capable of mastering even the most complex strategic games.\n",
    "***"
   ]
  },
  {
   "cell_type": "markdown",
   "id": "3d74b766",
   "metadata": {},
   "source": [
    "### Why Minmax for Tic Tac Toe? \n",
    "***\n",
    "Minmax remains a popular and effective choice for AI in Tic Tac Toe due to the following: \n",
    "\n",
    "__Simplicity:__ Minmax is a relatively straightforward algorithm, making it easier to understand and implement compared to some other options. \n",
    " \n",
    "__Guaranteed optimal play:__ When implemented correctly, Minmax guarantees the AI will make the best possible move against a deterministic opponent like another algorithm or a perfect player. \n",
    " \n",
    "__Efficiency:__ While searching the entire game tree can be computationally expensive, Minmax can be optimized with techniques like alpha-beta pruning to drastically improve its speed in smaller games like Tic Tac Toe. \n",
    " \n",
    "__Transparency:__ The decision-making process of Minmax is transparent, allowing for easier analysis and debugging of the AI's strategy. \n",
    "\n",
    "However, depending on the specific goals and resources, other algorithms like Alpha-Beta pruning or Expect minimax might be worth exploring for improved performance or adaptability. \n",
    "***\n"
   ]
  },
  {
   "cell_type": "markdown",
   "id": "d170bbab",
   "metadata": {},
   "source": [
    "## About Minimax Algorithm:\n",
    "***\n",
    "The Minimax algorithm is a type of backtracking algorithm used in decision making and game theory. It’s designed to determine the optimal move for a player, assuming that the opponent is also playing optimally. This makes it particularly useful in two-player turn-based games such as Tic-Tac-Toe, Backgammon, Mancala, Chess, etc.\n",
    "\n",
    "In the Minimax algorithm, the two players are referred to as the maximizer and the minimizer. The maximizer aims to achieve the highest score possible, while the minimizer aims to achieve the lowest score possible. Each state of the game board has a value associated with it, which is calculated based on certain heuristics that are unique to each type of game.\n",
    "\n",
    "The algorithm explores all possible moves, then backtracks and makes a decision. It performs a depth-first search of the game tree, proceeding all the way down to the terminal node of the tree, then backtracks as the recursion unwinds.\n",
    "\n",
    "Here’s a simple pseudocode representation of the Minimax algorithm:\n",
    "\n",
    "\n",
    "```markdown\n",
    "function minimax(node, depth, maximizingPlayer) is\n",
    "  if depth == 0 or node is a terminal node then\n",
    "    return static evaluation of node\n",
    "\n",
    "  if MaximizingPlayer then // for Maximizer Player\n",
    "    maxEva = -infinity\n",
    "    for each child of node do\n",
    "      eva = minimax(child, depth-1, false)\n",
    "      maxEva = max(maxEva, eva) //gives Maximum of the values\n",
    "    return maxEva\n",
    "\n",
    "  else // for Minimizer player\n",
    "    minEva = +infinity\n",
    "    for each child of node do\n",
    "      eva = minimax(child, depth-1, true)\n",
    "      minEva = min(minEva, eva) //gives minimum of the values\n",
    "    return minEva\n",
    "```\n",
    "### Working of Min-Max Algorithm:\n",
    "*\tThe working of the minimax algorithm can be easily described using an example. Below we have taken an example of game-tree which is representing the two-player game.\n",
    "\n",
    "*\tIn this example, there are two players one is called Maximizer and other is called Minimizer.\n",
    "\n",
    "*\tMaximizer will try to get the Maximum possible score, and Minimizer will try to get the minimum possible score.\n",
    "\n",
    "*\tThis algorithm applies DFS, so in this game-tree, we have to go all the way through the leaves to reach the terminal nodes.\n",
    "\n",
    "*\tAt the terminal node, the terminal values are given so we will compare those value and backtrack the tree until the initial state occurs. Following are the main steps involved in solving the two-player game tree:\n",
    "\n",
    "__Step-1:__ In the initial phase of the algorithm, a complete game-tree is constructed, and a utility function is applied to assign values to the terminal states. Consider a tree diagram where 'A' represents the initial state. The game begins with the maximizer's turn, which starts with an initial worst-case value of negative infinity. Following this, the minimizer takes their turn, starting with a worst-case initial value of positive infinity. This process ensures a comprehensive evaluation of all possible outcomes in the game-tree.\n",
    " \n",
    "<img src= Fig1.png width=400 align= left>"
   ]
  },
  {
   "cell_type": "markdown",
   "id": "ea61b811",
   "metadata": {},
   "source": [
    "__Step 2:__ In this phase, we focus on determining the utility values for the Maximizing Player. The Maximizing Player begins with an initial value of negative infinity. Each terminal state value is then compared with this initial value. The objective is to identify node values that exceed this initial value. In essence, this step seeks the maximum value among all terminal states, which represents the optimal choice for the Maximizing Player. This procedure is a crucial part of the Maximizing Player's strategic decision-making within the game-tree.\n",
    "    \n",
    "<img src= Fig2.png width=400 align=left>"
   ]
  },
  {
   "cell_type": "markdown",
   "id": "70e6e4ba",
   "metadata": {},
   "source": [
    "   \n",
    "   *\tFor node D = max(-1,- -∞) => max(-1,4)= 4\n",
    "   \n",
    "   *\tFor Node E = max(2, -∞) => max(2, 6)= 6\n",
    "   \n",
    "   *\tFor Node F = max(-3, -∞) => max(-3,-5) = -3\n",
    "   \n",
    "   *\tFor node G = max(0, -∞) = max(0, 7) = 7\n",
    "\n",
    "__Step 3:__ In the subsequent phase, the focus shifts to the Minimizing Player. This player begins with an initial value of positive infinity. The Minimizing Player then compares the value of each node with this initial value. The aim is to identify the node values that are lower than this initial value. Essentially, this step determines the values of the nodes in the third layer of the game-tree. This process is a key part of the Minimizing Player's strategic decision-making within the game-tree. It ensures that the Minimizing Player selects the move that minimizes the potential maximum loss.\n",
    "\n",
    "<img src= Fig3.png width=400 align=left>"
   ]
  },
  {
   "cell_type": "markdown",
   "id": "ed16de69",
   "metadata": {},
   "source": [
    "*\tFor node B = min(4, 6) = 4\n",
    "\n",
    "*\tFor node C = min(-3, 7) = -3\n",
    "\n",
    "__Step 4:__ In the ensuing stage, the Maximizing Player takes their turn again. The player evaluates all node values and selects the maximum among them, thereby determining the maximum value for the root node. In this particular game-tree, there are only four layers, which allows us to quickly reach the root node. However, it's important to note that in more complex scenarios, such as real-world games, the game-tree could have more than four layers. This complexity would necessitate additional iterations of the algorithm to reach the root node and determine the optimal strategy. This process exemplifies the strategic decision-making involved in game-tree analysis.\n",
    "\n",
    "<img src= Fig4.png width=400 align=left>"
   ]
  },
  {
   "cell_type": "markdown",
   "id": "93c2f7c7",
   "metadata": {},
   "source": [
    "*\tFor node A = max(4, -3)= 4\n",
    "\n",
    "That was the complete workflow of the minimax two player game.\n",
    "\n",
    "### Properties of Mini-Max algorithm:\n",
    "* __Complete-__ Min-Max algorithm is Complete. It will definitely find a solution (if exist), in the finite search tree.\n",
    "\n",
    "* __Optimal-__ Min-Max algorithm is optimal if both opponents are playing optimally.\n",
    "\n",
    "* __Time complexity-__ As it performs DFS for the game-tree, so the time complexity of Min-Max algorithm is O(b<sup>d</sup>), where b is branching factor of the game-tree, and d is the maximum depth of the tree.\n",
    "\n",
    "* __Space Complexity-__ Space complexity of Mini-max algorithm is also similar to DFS which is O(bd).\n",
    "\n",
    "### Limitation of the minimax Algorithm:\n",
    "1. **Computational Complexity**: The algorithm has to visit each board state twice: once to find its children and a second time to evaluate the heuristic value. This can be computationally expensive, especially for games with a large branching factor.\n",
    "\n",
    "2. **Speed**: Minimax tends to be slow for games with many choices per turn, like chess. The deeper the game tree, the slower the algorithm gets.\n",
    "\n",
    "3. **Optimality Assumption**: Minimax assumes optimal play from both players. If a player does not play optimally, the algorithm's performance may not be as expected. \n",
    "\n",
    "These limitations, however, don't significantly impact its performance in a simple game like Tic Tac Toe due to its simplicity and limited game states. It's when you get into more complex games, like Chess or Go, that these limitations become more apparent.\n",
    "\n",
    "***"
   ]
  },
  {
   "cell_type": "markdown",
   "id": "16a0f2d8",
   "metadata": {},
   "source": [
    "### Platforms used: \n",
    "***\n",
    "1. **Python**: This versatile programming language, along with its libraries, would have been instrumental in coding the game logic and implementing the Minimax algorithm.\n",
    "\n",
    "2. **Jupyter Notebook**: This interactive development environment would have been useful for writing, testing, and debugging the code. It also allows for visualizations, which can be helpful in understanding the flow of the game and the algorithm.\n",
    "\n",
    "#### Python libraries used: \n",
    "1. **copy**: This library is used for creating copies of collections or complex objects (like lists or dictionaries) in Python.\n",
    "2. **sys**: Provides access to some variables used or maintained by the Python interpreter and to functions that interact strongly with the interpreter.\n",
    "3. **pygame**: A set of Python modules designed for writing video games. It provides functionalities for graphics, sound, and other aspects of game development.\n",
    "4. **random**: This module implements pseudo-random number generators for various distributions and is often used for game logic and AI behavior.\n",
    "5. **numpy**: A powerful library for working with arrays. It's used for numerical computations, which can be useful for various aspects of game development.\n",
    "***"
   ]
  },
  {
   "cell_type": "markdown",
   "id": "adb20d74",
   "metadata": {},
   "source": [
    "## Experiment and Code Explanation\n",
    "***"
   ]
  },
  {
   "cell_type": "markdown",
   "id": "d042697d",
   "metadata": {},
   "source": [
    "### Necessary pip installs"
   ]
  },
  {
   "cell_type": "code",
   "execution_count": 1,
   "id": "d4503253",
   "metadata": {},
   "outputs": [],
   "source": [
    "# %pip install pygame\n",
    "# %pip install numpy"
   ]
  },
  {
   "cell_type": "markdown",
   "id": "5d4dfa20",
   "metadata": {},
   "source": [
    "### Necessary Imports"
   ]
  },
  {
   "cell_type": "code",
   "execution_count": 2,
   "id": "75c5847d",
   "metadata": {},
   "outputs": [
    {
     "name": "stdout",
     "output_type": "stream",
     "text": [
      "pygame 2.5.2 (SDL 2.28.3, Python 3.11.5)\n",
      "Hello from the pygame community. https://www.pygame.org/contribute.html\n"
     ]
    }
   ],
   "source": [
    "import copy\n",
    "import sys\n",
    "import pygame\n",
    "import random\n",
    "import numpy as np"
   ]
  },
  {
   "cell_type": "markdown",
   "id": "7803f115",
   "metadata": {},
   "source": [
    "### Constants"
   ]
  },
  {
   "cell_type": "code",
   "execution_count": 3,
   "id": "8ca68d15",
   "metadata": {},
   "outputs": [],
   "source": [
    "WIDTH = 600\n",
    "HEIGHT = 600\n",
    "\n",
    "ROWS = 3\n",
    "COLS = 3\n",
    "SQSIZE = WIDTH//COLS\n",
    "\n",
    "LINE_WIDTH = 15\n",
    "CIRC_WIDTH = 15\n",
    "CROSS_WIDTH = 20\n",
    "\n",
    "RADIUS = SQSIZE//4\n",
    "\n",
    "OFFSET = 50\n",
    "\n",
    "BG_COLOUR = (0, 219, 255)\n",
    "LINE_COLOUR = (245, 10, 131)\n",
    "CIRC_COLOUR = (255, 0, 181)\n",
    "CROSS_COLOUR = (107, 17, 238)"
   ]
  },
  {
   "cell_type": "markdown",
   "id": "1b1cb346",
   "metadata": {},
   "source": [
    "### Pygame setup"
   ]
  },
  {
   "cell_type": "markdown",
   "id": "e5127884",
   "metadata": {},
   "source": [
    "***\n",
    "We utilized Pygame, a renowned library in Python, to craft the game layout, ensuring it is aptly structured for gameplay. This approach underscores our commitment to providing a seamless and engaging gaming experience.\n",
    "***"
   ]
  },
  {
   "cell_type": "code",
   "execution_count": 4,
   "id": "c42a5371",
   "metadata": {},
   "outputs": [
    {
     "data": {
      "text/plain": [
       "<rect(0, 0, 600, 600)>"
      ]
     },
     "execution_count": 4,
     "metadata": {},
     "output_type": "execute_result"
    }
   ],
   "source": [
    "pygame.init()\n",
    "screen = pygame.display.set_mode((WIDTH, HEIGHT))\n",
    "pygame.display.set_caption('TIC-TAC-TOE')\n",
    "screen.fill( BG_COLOUR )"
   ]
  },
  {
   "cell_type": "markdown",
   "id": "e7f0eee0",
   "metadata": {},
   "source": [
    "### Tic-Tac-Toe Board Creator code"
   ]
  },
  {
   "cell_type": "markdown",
   "id": "7d72eb27",
   "metadata": {},
   "source": [
    "***\n",
    "The `Board` class plays a crucial role in managing the state of the Tic Tac Toe board. It leverages modules from Pygame to visually represent win or draw conditions using specific final state functions. The `get_empty_sqrs()` function is employed to identify empty squares on the board. \n",
    "\n",
    "The `mark_sqr()` function is used to mark a square with either 1 or 2, depending on the user's input. The `empty_sqr()` function is utilized to clear a square when needed. The `isfull()` and `isempty()` functions are used to check the status of the board, indicating whether it is full or empty, respectively. \n",
    "\n",
    "This systematic approach ensures efficient management of the game state, contributing to a smooth and engaging gameplay experience."
   ]
  },
  {
   "cell_type": "code",
   "execution_count": 5,
   "id": "6a338422",
   "metadata": {},
   "outputs": [],
   "source": [
    "class Board:\n",
    "    def __init__(self) -> None:\n",
    "        self.squares = np.zeros((ROWS, COLS)) #Returns a matrix of given size\n",
    "        self.empty_sqrs = self.squares #[squares]\n",
    "        self.marked_sqr = 0\n",
    "        \n",
    "    def final_state(self, show=False):\n",
    "        '''\n",
    "            @return 0 if there is no win\n",
    "            @return 1 if player 1 wins\n",
    "            @return 2 if player 2 wins\n",
    "        '''\n",
    "        #Vertical wins\n",
    "        for col in range(COLS):\n",
    "            if(self.squares[0][col]==self.squares[1][col]==self.squares[2][col]!=0):\n",
    "                if(show):\n",
    "                    colour = CIRC_COLOUR if self.squares[1][col]==2 else CROSS_COLOUR\n",
    "                    ipos=(col*SQSIZE+SQSIZE//2, 20)\n",
    "                    fpos=(col*SQSIZE+SQSIZE//2, HEIGHT-20)\n",
    "                    pygame.draw.line(screen, colour, ipos, fpos, LINE_WIDTH)\n",
    "                return self.squares[0][col]\n",
    "            \n",
    "        #Horizontal wins\n",
    "        for row in range(ROWS):\n",
    "            if(self.squares[row][0]==self.squares[row][1]==self.squares[row][2]!=0):\n",
    "                if(show):\n",
    "                    colour = CIRC_COLOUR if self.squares[row][1]==2 else CROSS_COLOUR\n",
    "                    ipos=(20, row*SQSIZE+SQSIZE//2)\n",
    "                    fpos=(WIDTH-20, row*SQSIZE+SQSIZE//2)\n",
    "                    pygame.draw.line(screen, colour, ipos, fpos, LINE_WIDTH)\n",
    "                return self.squares[row][0]\n",
    "            \n",
    "        #Desc diagonal\n",
    "        if(self.squares[0][0]==self.squares[1][1]==self.squares[2][2]!=0):\n",
    "            if(show):\n",
    "                    colour = CIRC_COLOUR if self.squares[2][2]==2 else CROSS_COLOUR\n",
    "                    ipos=(20, 20)\n",
    "                    fpos=(WIDTH-20, HEIGHT-20)\n",
    "                    pygame.draw.line(screen, colour, ipos, fpos, LINE_WIDTH)\n",
    "            return self.squares[0][0]\n",
    "        \n",
    "        #Asc diagonal\n",
    "        if(self.squares[0][2]==self.squares[1][1]==self.squares[2][0]!=0):\n",
    "            if(show):\n",
    "                    colour = CIRC_COLOUR if self.squares[1][1]==2 else CROSS_COLOUR\n",
    "                    ipos=(20, HEIGHT-20)\n",
    "                    fpos=(WIDTH-20, 20)\n",
    "                    pygame.draw.line(screen, colour, ipos, fpos, LINE_WIDTH)\n",
    "            return self.squares[1][1]\n",
    "        \n",
    "        #no win yet\n",
    "        return 0\n",
    "        \n",
    "    def mark_sqr(self, row, col, player):\n",
    "        self.squares[row][col] = player\n",
    "        self.marked_sqr+=1\n",
    "        \n",
    "    def empty_sqr(self, row, col):\n",
    "        return self.squares[row][col] == 0\n",
    "    \n",
    "    def get_empty_sqrs(self):\n",
    "        empty_sqrs = []\n",
    "        for row in range(ROWS):\n",
    "            for col in range(COLS):\n",
    "                if(self.empty_sqr(row, col)):\n",
    "                    empty_sqrs.append((row, col))\n",
    "        return empty_sqrs\n",
    "            \n",
    "    \n",
    "    def isfull(self):\n",
    "        return self.marked_sqr==9\n",
    "    \n",
    "    def isempty(self):\n",
    "        return self.marked_sqr==0"
   ]
  },
  {
   "cell_type": "markdown",
   "id": "8e25153c",
   "metadata": {},
   "source": [
    "***"
   ]
  },
  {
   "cell_type": "markdown",
   "id": "d78a36c2",
   "metadata": {},
   "source": [
    "### Tic-Tac-Toe Brain Model(AI player) "
   ]
  },
  {
   "cell_type": "markdown",
   "id": "746e8d61",
   "metadata": {},
   "source": [
    "***\n",
    "The AI class acts as the brain of the game, controlling all aspects of gameplay. At the core of our AI class, there are two key functions that guide the computer’s actions in the game of Tic-Tac-Toe, making it a formidable opponent.\n",
    "\n",
    "The two key functions are:\n",
    "1. `eval()`\n",
    "2. `minimax()`\n",
    "\n",
    "#### eval()\n",
    "The eval() function assesses whether the AI should opt for random moves or employ the Minimax algorithm for strategic decision-making. \n",
    "#### minimax()\n",
    "The Minimax algorithm, a recursive method utilized in game theory, is designed to identify the best possible move for a player. It meticulously evaluates every potential move, assigning a score to each one under the assumption that the opponent will also play in an optimal manner. Consequently, the algorithm selects the move that maximizes the AI player's score while minimizing the opponent's score. This process ensures strategic and intelligent gameplay.\n",
    "\n",
    "<img src= StateSpace.png width=550>\n",
    "\n",
    "This algorithm constructs a provisional game board and generates all possible scenarios based on the user’s input. It assigns a value to each board state for every scenario, thereby facilitating the selection of an optimal move at each instance. This approach ensures a strategic and calculated progression of the game.\n"
   ]
  },
  {
   "cell_type": "markdown",
   "id": "84ad4ce5",
   "metadata": {},
   "source": [
    "<img src= Picture2.png width=650>\n",
    "\n",
    "Referring to Figure 02, we’ve visualized a sample state where the AI is set to make the next move. In this scenario, the AI generates all possible outcomes and strategically selects the move that guarantees a win. This process illustrates the AI’s ability to anticipate and navigate the game effectively.\n",
    "\n",
    "Indeed, when you engage in a game with this AI, the outcome is bound to be either a draw or a victory in favor of the AI. This essentially renders the AI unbeatable, showcasing its superior strategic capabilities."
   ]
  },
  {
   "cell_type": "code",
   "execution_count": 6,
   "id": "bd58a43b",
   "metadata": {},
   "outputs": [],
   "source": [
    "class AI:\n",
    "    def __init__(self, level=1, player=2) -> None:\n",
    "        self.level=level\n",
    "        self.player=player\n",
    "        \n",
    "    def rnd(self, board):\n",
    "        empty_sqrs = board.get_empty_sqrs()\n",
    "        idx = random.randrange(0, len(empty_sqrs))\n",
    "        \n",
    "        return empty_sqrs[idx] #(row, col)\n",
    "    \n",
    "    def minimax(self, board, maximizing):\n",
    "        #terminal case\n",
    "        case = board.final_state()\n",
    "        \n",
    "        #player 1 wins\n",
    "        if(case==1):\n",
    "            return 1, None\n",
    "        \n",
    "        #player 2 wins\n",
    "        if(case==2):\n",
    "            return -1, None\n",
    "        \n",
    "        #draw\n",
    "        elif board.isfull():\n",
    "            return 0, None\n",
    "        \n",
    "        if maximizing:\n",
    "            max_eval=-9999\n",
    "            best_move = None\n",
    "            empty_sqrs = board.get_empty_sqrs()\n",
    "            \n",
    "            for(row, col) in empty_sqrs:\n",
    "                temp_board = copy.deepcopy(board)\n",
    "                temp_board.mark_sqr(row, col, 1)\n",
    "                eval = self.minimax(temp_board, False)[0]\n",
    "                \n",
    "                if(eval>max_eval):\n",
    "                    max_eval = eval\n",
    "                    best_move = (row, col)\n",
    "            return max_eval, best_move\n",
    "        \n",
    "        elif not maximizing:\n",
    "            min_eval=9999\n",
    "            best_move = None\n",
    "            empty_sqrs = board.get_empty_sqrs()\n",
    "            \n",
    "            for(row, col) in empty_sqrs:\n",
    "                temp_board = copy.deepcopy(board)\n",
    "                temp_board.mark_sqr(row, col, self.player)\n",
    "                eval = self.minimax(temp_board, True)[0]\n",
    "                \n",
    "                if(eval<min_eval):\n",
    "                    min_eval = eval\n",
    "                    best_move = (row, col)\n",
    "            return min_eval, best_move\n",
    "        \n",
    "    \n",
    "    def eval(self, main_board):\n",
    "        if(self.level==0):\n",
    "            #random choice\n",
    "            eval = 'random'\n",
    "            move = self.rnd(main_board)\n",
    "        \n",
    "        else:\n",
    "            #minimax algo choice\n",
    "            eval, move = self.minimax(main_board, False)\n",
    "            \n",
    "        print(f\"AI has chosen to mark the square in pos {move} with an eval of {eval}\")\n",
    "        \n",
    "        return move #(row, col)"
   ]
  },
  {
   "cell_type": "markdown",
   "id": "cbf0fe2d",
   "metadata": {},
   "source": [
    "***"
   ]
  },
  {
   "cell_type": "markdown",
   "id": "7a579659",
   "metadata": {},
   "source": [
    "### Gmaing code"
   ]
  },
  {
   "cell_type": "markdown",
   "id": "e605f0a5",
   "metadata": {},
   "source": [
    "***\n",
    "The `Game` class plays a pivotal role in controlling the game's progression. It manages the alternating turns of Player 1 and Player 2 using the `next_turn()` function and designs the game board interface with the `show_lines()` function. The `draw_fig()` function is used to create the cross and circle figures in the game.\n",
    "\n",
    "The `make_move()` function implements the moves made by the players, enhancing the interactive aspect of the game. The game mode can be toggled between 'AI vs Player' and 'Player vs Player' using the `change_gameMode()` function, offering flexibility in gameplay.\n",
    "\n",
    "The `isover()` function is used to determine if the game has reached its conclusion, while the `reset()` function allows for the game board to be reset, facilitating multiple rounds of play. This comprehensive set of functions ensures a dynamic and engaging gaming experience."
   ]
  },
  {
   "cell_type": "code",
   "execution_count": 7,
   "id": "cefccba7",
   "metadata": {},
   "outputs": [],
   "source": [
    "class Game:\n",
    "    def __init__(self) -> None:\n",
    "        self.board = Board()\n",
    "        self.ai = AI()\n",
    "        self.player=1 #1-Cross & #2-Circle\n",
    "        self.gamemode='ai' #player vs player or player vs AI\n",
    "        self.running=True\n",
    "        self.show_lines()\n",
    "        \n",
    "    def make_move(self, row, col):\n",
    "        self.board.mark_sqr(row, col, self.player)\n",
    "        self.draw_fig(row, col)\n",
    "        self.next_turn()\n",
    "    \n",
    "    def show_lines(self):\n",
    "        screen.fill(BG_COLOUR)\n",
    "        #vertical\n",
    "        pygame.draw.line(screen, LINE_COLOUR, (SQSIZE, 0), (SQSIZE, HEIGHT), LINE_WIDTH)\n",
    "        pygame.draw.line(screen, LINE_COLOUR, (WIDTH-SQSIZE, 0), (WIDTH-SQSIZE, HEIGHT), \n",
    "                         LINE_WIDTH)\n",
    "        #horizontal\n",
    "        pygame.draw.line(screen, LINE_COLOUR, (0, SQSIZE), (WIDTH, SQSIZE), LINE_WIDTH)\n",
    "        pygame.draw.line(screen, LINE_COLOUR, (0, HEIGHT-SQSIZE), (WIDTH, HEIGHT-SQSIZE), \n",
    "                         LINE_WIDTH)\n",
    "        \n",
    "    def draw_fig(self, row, col):\n",
    "        if(self.player==1):\n",
    "            #draw cross\n",
    "            #desc line\n",
    "            start_desc = (col*SQSIZE+OFFSET, row*SQSIZE+OFFSET)\n",
    "            end_desc = (col*SQSIZE+SQSIZE-OFFSET, row*SQSIZE+SQSIZE-OFFSET)\n",
    "            pygame.draw.line(screen, CROSS_COLOUR, start_desc, end_desc, CROSS_WIDTH)   \n",
    "            \n",
    "            #asc line\n",
    "            start_asc = (col*SQSIZE+OFFSET, row*SQSIZE+SQSIZE-OFFSET)\n",
    "            end_asc = (col*SQSIZE+SQSIZE-OFFSET, row*SQSIZE+OFFSET)\n",
    "            pygame.draw.line(screen, CROSS_COLOUR, start_asc, end_asc, CROSS_WIDTH) \n",
    "        \n",
    "        \n",
    "        elif(self.player==2):\n",
    "            #draw circle\n",
    "            center = (col*SQSIZE+SQSIZE//2, row*SQSIZE+SQSIZE//2)\n",
    "            pygame.draw.circle(screen, CIRC_COLOUR,  center, RADIUS, CIRC_WIDTH)\n",
    "        \n",
    "    def next_turn(self):\n",
    "        self.player = self.player%2+1\n",
    "        \n",
    "    def change_gameMode(self):\n",
    "        if(self.gamemode==\"pvp\"):\n",
    "            self.gamemode=\"ai\"\n",
    "        else:\n",
    "            self.gamemode=\"pvp\"\n",
    "    \n",
    "    def isover(self):\n",
    "        return self.board.final_state(show=True) != 0 or self.board.isfull()\n",
    "    \n",
    "    def reset(self):\n",
    "        self.__init__()"
   ]
  },
  {
   "cell_type": "markdown",
   "id": "d64852b6",
   "metadata": {},
   "source": [
    "***"
   ]
  },
  {
   "cell_type": "markdown",
   "id": "d65703c2",
   "metadata": {},
   "source": [
    "### Driver code"
   ]
  },
  {
   "cell_type": "markdown",
   "id": "51912c02",
   "metadata": {},
   "source": [
    "***\n",
    "Certainly, let's delve deeper into the functionality of the `main()` function in the context of this game:\n",
    "\n",
    "1. **Initialization**: The function begins by initializing the game objects. This includes the game itself, the game board, and the AI player. These objects are crucial for the gameplay and their initial state sets the stage for the game.\n",
    "\n",
    "2. **Main Game Loop**: The function then enters a continuous loop, which is the heart of the game. This loop keeps the game running and updates according to the player's actions.\n",
    "\n",
    "3. **Event Handling**: Within the loop, the function listens for events triggered by the player. These events can be a mouse click, a key press, or even a request to quit the game. Each event has a corresponding response that affects the game state.\n",
    "\n",
    "4. **Key Press Events**: If a key is pressed, the function checks which key it is and performs the corresponding action. This could be changing the game mode, resetting the board, changing the AI from 'random moves' and 'AI mode', or letting the AI start the game.\n",
    "\n",
    "5. **Mouse Click Events**: If a mouse button is clicked, the function calculates which square of the game board was clicked. If the game is still running and the clicked square is empty, the function makes a move at that square.\n",
    "\n",
    "6. **AI Moves**: If the game mode is set to 'AI vs Player' and it's the AI's turn, the function lets the AI evaluate the board and make a move. The screen is updated after the AI makes its move.\n",
    "\n",
    "7. **Game Over Check**: After each move, the function checks if the game is over. If it is, the game stops running.\n",
    "\n",
    "8. **Screen Update**: Finally, the function updates the screen to reflect the new game state. This update happens after every event and after every AI move.\n",
    "\n",
    "This function serves as a quintessential illustration of the operational dynamics within a game's primary loop. It's a testament to the intricate orchestration of user interactions and game state management in real-time gaming environments. It continuously checks for user input, updates the game state, and redraws the screen. It's a dynamic process that keeps the game engaging and responsive to the player's actions. The use of different functions for different tasks keeps the code modular, organized, and easy to understand. This is a fundamental aspect of professional game development. The `main()` function encapsulates all these elements, making it the backbone of the game. It's a testament to the power of well-structured code in creating an engaging and seamless gaming experience."
   ]
  },
  {
   "cell_type": "code",
   "execution_count": 8,
   "id": "040a8dd9",
   "metadata": {},
   "outputs": [],
   "source": [
    "def main():\n",
    "    #object\n",
    "    game = Game()\n",
    "    board = game.board\n",
    "    ai = game.ai\n",
    "    #Main loop\n",
    "    while True:\n",
    "        for event in pygame.event.get():\n",
    "            # print(event.type)\n",
    "            if(event.type == pygame.QUIT):\n",
    "                pygame.quit()\n",
    "                sys.exit()\n",
    "                 \n",
    "            if(event.type==pygame.KEYDOWN):\n",
    "                # print(event.key)\n",
    "                     \n",
    "                #press \"g\" to change game mode\n",
    "                if(event.key == pygame.K_g):\n",
    "                    game.change_gameMode()\n",
    "\n",
    "                #press \"r\" to reset board\n",
    "                if(event.key == pygame.K_r):\n",
    "                    game.reset()\n",
    "                    board = game.board\n",
    "                    ai = game.ai\n",
    "                    \n",
    "                #press \"0\" to change to random \n",
    "                if(game.gamemode=='ai' and event.key == pygame.K_0):\n",
    "                    ai.level = 0;\n",
    "                    \n",
    "                #press \"1\" to change to AI\n",
    "                if(game.gamemode=='ai' and event.key == pygame.K_1):\n",
    "                    ai.level = 1;\n",
    "                    \n",
    "                #press \"s\" to let AI start\n",
    "                if(event.key == pygame.K_s):\n",
    "                    game.player=2\n",
    "            \n",
    "            if(event.type == pygame.MOUSEBUTTONDOWN):\n",
    "                pos = event.pos\n",
    "                row = pos[1]//SQSIZE\n",
    "                col = pos[0]//SQSIZE\n",
    "                \n",
    "                if(board.empty_sqr(row, col) and game.running):\n",
    "                    game.make_move(row, col)    \n",
    "                    \n",
    "                    if(game.isover()):\n",
    "                        game.running = False\n",
    "                    \n",
    "        if(game.gamemode=='ai' and game.player == ai.player and game.running):\n",
    "            #update the screen\n",
    "            pygame.display.update()\n",
    "            \n",
    "            #ai methods\n",
    "            row, col = ai.eval(board)\n",
    "            #played by AI\n",
    "            game.make_move(row, col)\n",
    "            \n",
    "            if(game.isover()):\n",
    "                game.running = False\n",
    "                \n",
    "        pygame.display.update()"
   ]
  },
  {
   "cell_type": "markdown",
   "id": "05c41a47",
   "metadata": {},
   "source": [
    "***"
   ]
  },
  {
   "cell_type": "markdown",
   "id": "e4155684",
   "metadata": {},
   "source": [
    "##  Output\n",
    "***\n",
    "The game was subjected to a comprehensive range of test cases, encompassing diverse player moves and edge scenarios. The moves executed by the AI player were meticulously evaluated to ensure adherence to the game's rules and the optimal decision-making principles of the Minimax algorithm.\n",
    "\n",
    "The AI player's performance was critically assessed in terms of decision-making efficiency and precision. The algorithm demonstrated consistent optimization of moves, thereby offering a formidable challenge to the players. Consequently, the game invariably culminates in either a draw or a victory for the AI, underscoring the AI's strategic prowess. This highlights the sophistication of the AI's gameplay and its potential to revolutionize traditional gaming dynamics.\n",
    "\n",
    "<img src= Op1.png width=300>\n",
    "<img src= Op2.png width=300>"
   ]
  },
  {
   "cell_type": "markdown",
   "id": "1972df5e",
   "metadata": {},
   "source": [
    "Here are some sample results where 'O' is palyed by AI.\n",
    "##### Results\n",
    "In essence, the Tic Tac Toe game, bolstered by the AI-driven Minimax algorithm, has been successfully implemented, offering an immersive and challenging gaming experience. The AI player exhibits a consistent pattern of optimal moves, thereby raising the bar for human players.\n",
    "\n",
    "The Minimax algorithm demonstrates commendable efficiency, maintaining its performance even with larger game boards. However, there is room for further refinement. Specifically, the algorithm could be optimized to decrease the search space when dealing with larger boards. This potential enhancement could lead to even more efficient decision-making, further elevating the sophistication of the game. This endeavor underscores the transformative potential of AI in redefining traditional gaming paradigms.\n",
    "***"
   ]
  },
  {
   "cell_type": "code",
   "execution_count": null,
   "id": "1a02941e",
   "metadata": {},
   "outputs": [
    {
     "name": "stdout",
     "output_type": "stream",
     "text": [
      "AI has chosen to mark the square in pos (0, 0) with an eval of 0\n",
      "AI has chosen to mark the square in pos (0, 2) with an eval of 0\n",
      "AI has chosen to mark the square in pos (2, 1) with an eval of 0\n",
      "AI has chosen to mark the square in pos (1, 2) with an eval of 0\n"
     ]
    }
   ],
   "source": [
    "main()"
   ]
  },
  {
   "cell_type": "markdown",
   "id": "c86d6492",
   "metadata": {},
   "source": [
    "## Conclusion\n",
    "***\n",
    "To sum up, the deployment of the AI-driven Tic Tac Toe game, powered by the Minimax algorithm and implemented in Python, has been a resounding success. The game offers a stimulating challenge for players, with the AI player showcasing remarkable strategic decision-making skills. Looking ahead, there is potential for further enhancements, including algorithmic optimization and user interface refinement, to elevate the gaming experience even further. This endeavor underscores the transformative potential of AI in redefining traditional gaming paradigms.\n",
    "\n",
    "#### Future projects\n",
    "The plans of our future project is to develop a chess game powered by Artificial Intelligence (AI). As we have identified that the Minimax algorithm might be a common choice in these types of games, is not optimal for chess. This is due to the large number of possible game states in chess, which makes the search space for the Minimax algorithm extremely large.\n",
    "\n",
    "To address this issue, we’re planning to use the Alpha Beta Pruning technique as: \n",
    "\n",
    "* It’s an optimization of the Minimax algorithm.\n",
    "* It reduces the number of nodes that the algorithm needs to evaluate in its search tree.\n",
    "* It’s a search algorithm used specifically to determine the best move from a given position in a game.\n",
    "\n",
    "#### References\n",
    "We have reffered from these following sources:\n",
    "* https://stackoverflow.com/\n",
    "\n",
    "* https://www.javatpoint.com/\n",
    "\n",
    "* https://github.com/\n",
    "\n",
    "* https://www.geeksforgeeks.org/\n",
    "***"
   ]
  }
 ],
 "metadata": {
  "kernelspec": {
   "display_name": "Python 3 (ipykernel)",
   "language": "python",
   "name": "python3"
  },
  "language_info": {
   "codemirror_mode": {
    "name": "ipython",
    "version": 3
   },
   "file_extension": ".py",
   "mimetype": "text/x-python",
   "name": "python",
   "nbconvert_exporter": "python",
   "pygments_lexer": "ipython3",
   "version": "3.11.5"
  }
 },
 "nbformat": 4,
 "nbformat_minor": 5
}
